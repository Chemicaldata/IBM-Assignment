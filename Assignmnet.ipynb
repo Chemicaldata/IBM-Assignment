{
 "cells": [
  {
   "cell_type": "markdown",
   "id": "899138b0-107d-4fcb-8f2b-bf2df8878875",
   "metadata": {},
   "source": [
    "<h1> My Jupyter Notebook on IBM Watson Studio </h1>"
   ]
  },
  {
   "cell_type": "markdown",
   "id": "7ee7382e-fe75-4095-948c-1c2cf0d1bd5a",
   "metadata": {},
   "source": [
    "<p> <strong> Samad Jan</strong>\n",
    "<strong> Future Data Scientist</strong> </p>"
   ]
  },
  {
   "cell_type": "markdown",
   "id": "e293de96-e1e1-4a08-9c04-a9d8b0d22831",
   "metadata": {},
   "source": [
    "<p> <em> I am interested in data science is because it will create much more opportunities for me in future it can help me score master's scholarship. </em> </p>"
   ]
  },
  {
   "cell_type": "markdown",
   "id": "3e02596e-3943-434a-8c0d-459560c942c9",
   "metadata": {},
   "source": [
    "<h3> The code below is going to sum two numbers </h3>"
   ]
  },
  {
   "cell_type": "code",
   "execution_count": 2,
   "id": "6315f1b6-7cb1-4ffd-a90a-c951739aaa54",
   "metadata": {},
   "outputs": [
    {
     "name": "stdout",
     "output_type": "stream",
     "text": [
      "11\n"
     ]
    }
   ],
   "source": [
    "print(1 + 10)"
   ]
  },
  {
   "cell_type": "markdown",
   "id": "65fbb0e9-3549-4e21-aba3-c138116f6d5c",
   "metadata": {},
   "source": [
    "<ul style = \" list style: Circle\"> <li> one </li> <li>two</li> <li>three</li><li>four</li> <li>five</li></ul>"
   ]
  },
  {
   "cell_type": "markdown",
   "id": "69fcc210-d62b-4b48-8d62-c5091c246566",
   "metadata": {},
   "source": [
    "<table>\n",
    "  <tr>\n",
    "    <th>Month</th>\n",
    "    <th>Savings</th>\n",
    "  </tr>\n",
    "  <tr>\n",
    "    <td>January</td>\n",
    "    <td>$100</td>\n",
    "  </tr>\n",
    "</table>"
   ]
  },
  {
   "cell_type": "markdown",
   "id": "19578c66-7f2a-4e12-9916-6de6c5e98ca3",
   "metadata": {},
   "source": [
    "<a href =https://www.google.com> Google </a>"
   ]
  }
 ],
 "metadata": {
  "kernelspec": {
   "display_name": "Python",
   "language": "python",
   "name": "conda-env-python-py"
  },
  "language_info": {
   "codemirror_mode": {
    "name": "ipython",
    "version": 3
   },
   "file_extension": ".py",
   "mimetype": "text/x-python",
   "name": "python",
   "nbconvert_exporter": "python",
   "pygments_lexer": "ipython3",
   "version": "3.7.12"
  }
 },
 "nbformat": 4,
 "nbformat_minor": 5
}
